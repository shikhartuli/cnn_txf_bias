{
 "cells": [
  {
   "cell_type": "markdown",
   "metadata": {},
   "source": [
    "# Load dependencies"
   ]
  },
  {
   "cell_type": "code",
   "execution_count": 1,
   "metadata": {},
   "outputs": [],
   "source": [
    "from urllib import request\n",
    "from bs4 import BeautifulSoup\n",
    "import urllib\n",
    "import numpy as np"
   ]
  },
  {
   "cell_type": "markdown",
   "metadata": {},
   "source": [
    "# Load website"
   ]
  },
  {
   "cell_type": "code",
   "execution_count": 2,
   "metadata": {},
   "outputs": [],
   "source": [
    "response = request.urlopen('https://www.brain-score.org/').read()\n",
    "soup= BeautifulSoup(response, \"html.parser\")     "
   ]
  },
  {
   "cell_type": "code",
   "execution_count": 3,
   "metadata": {},
   "outputs": [],
   "source": [
    "# Search for 'tr' tag. This tag starts a score_cell class except the first one"
   ]
  },
  {
   "cell_type": "code",
   "execution_count": 4,
   "metadata": {},
   "outputs": [],
   "source": [
    "models = soup.findAll('tr') \n",
    "# remove first entry since this is not a model\n",
    "models = models[1:]"
   ]
  },
  {
   "cell_type": "code",
   "execution_count": 5,
   "metadata": {},
   "outputs": [],
   "source": [
    "# Loop through score_cells and store results\n",
    "saveArray = np.zeros(shape=(len(models),9), dtype=object)\n",
    "for indx, singleMod in enumerate(models):\n",
    "    name =  singleMod.findAll('td')[1].findAll('a')[0].get_text()\n",
    "    average = singleMod.findAll('td')[2].get_text()\n",
    "    V1 = singleMod.findAll('td')[3].get_text()\n",
    "    V2 = singleMod.findAll('td')[4].get_text()\n",
    "    V4 = singleMod.findAll('td')[5].get_text()\n",
    "    IT = singleMod.findAll('td')[6].get_text()\n",
    "    ITTemportal = singleMod.findAll('td')[7].get_text()\n",
    "    Behavior = singleMod.findAll('td')[8].get_text()\n",
    "    Imagenet = singleMod.findAll('td')[9].get_text()\n",
    "    saveArray[indx,0] = name\n",
    "    saveArray[indx,1] = average\n",
    "    saveArray[indx,2] = V1\n",
    "    saveArray[indx,3] = V2\n",
    "    saveArray[indx,4] = V4\n",
    "    saveArray[indx,5] = IT\n",
    "    saveArray[indx,6] = ITTemportal\n",
    "    saveArray[indx,7] = Behavior\n",
    "    saveArray[indx,8] = Imagenet\n",
    "    "
   ]
  },
  {
   "cell_type": "markdown",
   "metadata": {},
   "source": [
    "# Store as csv"
   ]
  },
  {
   "cell_type": "code",
   "execution_count": 6,
   "metadata": {},
   "outputs": [],
   "source": [
    "header = 'name, avg., V1, V2, V4, IT, ITTemp, Behavior, Imagenet'\n",
    "np.savetxt('../raw-data/brain-score_metrics/brainscore_metrics.csv',saveArray,fmt='%s',delimiter=',', header=header)"
   ]
  }
 ],
 "metadata": {
  "kernelspec": {
   "display_name": "Python 3",
   "language": "python",
   "name": "python3"
  },
  "language_info": {
   "codemirror_mode": {
    "name": "ipython",
    "version": 3
   },
   "file_extension": ".py",
   "mimetype": "text/x-python",
   "name": "python",
   "nbconvert_exporter": "python",
   "pygments_lexer": "ipython3",
   "version": "3.6.9"
  }
 },
 "nbformat": 4,
 "nbformat_minor": 2
}
