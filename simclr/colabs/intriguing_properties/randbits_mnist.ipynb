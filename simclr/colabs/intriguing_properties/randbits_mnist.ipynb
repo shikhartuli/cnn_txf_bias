{
  "nbformat": 4,
  "nbformat_minor": 0,
  "metadata": {
    "colab": {
      "name": "RandBits MNIST.ipynb",
      "provenance": [],
      "collapsed_sections": []
    },
    "kernelspec": {
      "name": "python3",
      "display_name": "Python 3"
    },
    "widgets": {
      "application/vnd.jupyter.widget-state+json": {
        "d8806065a5054b8da9767e4bb24af477": {
          "model_module": "@jupyter-widgets/controls",
          "model_name": "HBoxModel",
          "state": {
            "_view_name": "HBoxView",
            "_dom_classes": [],
            "_model_name": "HBoxModel",
            "_view_module": "@jupyter-widgets/controls",
            "_model_module_version": "1.5.0",
            "_view_count": null,
            "_view_module_version": "1.5.0",
            "box_style": "",
            "layout": "IPY_MODEL_1747f5b05a9c480c8311e56b9be11d2a",
            "_model_module": "@jupyter-widgets/controls",
            "children": [
              "IPY_MODEL_8ecae8435e1244e2bac2b3a75971cdef",
              "IPY_MODEL_bce306cd6a544f2a8b7fdbcfe523d802"
            ]
          }
        },
        "1747f5b05a9c480c8311e56b9be11d2a": {
          "model_module": "@jupyter-widgets/base",
          "model_name": "LayoutModel",
          "state": {
            "_view_name": "LayoutView",
            "grid_template_rows": null,
            "right": null,
            "justify_content": null,
            "_view_module": "@jupyter-widgets/base",
            "overflow": null,
            "_model_module_version": "1.2.0",
            "_view_count": null,
            "flex_flow": null,
            "width": null,
            "min_width": null,
            "border": null,
            "align_items": null,
            "bottom": null,
            "_model_module": "@jupyter-widgets/base",
            "top": null,
            "grid_column": null,
            "overflow_y": null,
            "overflow_x": null,
            "grid_auto_flow": null,
            "grid_area": null,
            "grid_template_columns": null,
            "flex": null,
            "_model_name": "LayoutModel",
            "justify_items": null,
            "grid_row": null,
            "max_height": null,
            "align_content": null,
            "visibility": null,
            "align_self": null,
            "height": null,
            "min_height": null,
            "padding": null,
            "grid_auto_rows": null,
            "grid_gap": null,
            "max_width": null,
            "order": null,
            "_view_module_version": "1.2.0",
            "grid_template_areas": null,
            "object_position": null,
            "object_fit": null,
            "grid_auto_columns": null,
            "margin": null,
            "display": null,
            "left": null
          }
        },
        "8ecae8435e1244e2bac2b3a75971cdef": {
          "model_module": "@jupyter-widgets/controls",
          "model_name": "FloatProgressModel",
          "state": {
            "_view_name": "ProgressView",
            "style": "IPY_MODEL_b8c000a9d5974ea58a96d724eaf43beb",
            "_dom_classes": [],
            "description": "Dl Completed...: 100%",
            "_model_name": "FloatProgressModel",
            "bar_style": "success",
            "max": 4,
            "_view_module": "@jupyter-widgets/controls",
            "_model_module_version": "1.5.0",
            "value": 4,
            "_view_count": null,
            "_view_module_version": "1.5.0",
            "orientation": "horizontal",
            "min": 0,
            "description_tooltip": null,
            "_model_module": "@jupyter-widgets/controls",
            "layout": "IPY_MODEL_8f57b328127541f0b1f48bd4ad1a016c"
          }
        },
        "bce306cd6a544f2a8b7fdbcfe523d802": {
          "model_module": "@jupyter-widgets/controls",
          "model_name": "HTMLModel",
          "state": {
            "_view_name": "HTMLView",
            "style": "IPY_MODEL_741b86714bdc4b1c8ee4eafcbf8d4115",
            "_dom_classes": [],
            "description": "",
            "_model_name": "HTMLModel",
            "placeholder": "​",
            "_view_module": "@jupyter-widgets/controls",
            "_model_module_version": "1.5.0",
            "value": " 4/4 [00:02&lt;00:00,  1.99 file/s]",
            "_view_count": null,
            "_view_module_version": "1.5.0",
            "description_tooltip": null,
            "_model_module": "@jupyter-widgets/controls",
            "layout": "IPY_MODEL_d0d83413d905432588674bed26b36979"
          }
        },
        "b8c000a9d5974ea58a96d724eaf43beb": {
          "model_module": "@jupyter-widgets/controls",
          "model_name": "ProgressStyleModel",
          "state": {
            "_view_name": "StyleView",
            "_model_name": "ProgressStyleModel",
            "description_width": "initial",
            "_view_module": "@jupyter-widgets/base",
            "_model_module_version": "1.5.0",
            "_view_count": null,
            "_view_module_version": "1.2.0",
            "bar_color": null,
            "_model_module": "@jupyter-widgets/controls"
          }
        },
        "8f57b328127541f0b1f48bd4ad1a016c": {
          "model_module": "@jupyter-widgets/base",
          "model_name": "LayoutModel",
          "state": {
            "_view_name": "LayoutView",
            "grid_template_rows": null,
            "right": null,
            "justify_content": null,
            "_view_module": "@jupyter-widgets/base",
            "overflow": null,
            "_model_module_version": "1.2.0",
            "_view_count": null,
            "flex_flow": null,
            "width": null,
            "min_width": null,
            "border": null,
            "align_items": null,
            "bottom": null,
            "_model_module": "@jupyter-widgets/base",
            "top": null,
            "grid_column": null,
            "overflow_y": null,
            "overflow_x": null,
            "grid_auto_flow": null,
            "grid_area": null,
            "grid_template_columns": null,
            "flex": null,
            "_model_name": "LayoutModel",
            "justify_items": null,
            "grid_row": null,
            "max_height": null,
            "align_content": null,
            "visibility": null,
            "align_self": null,
            "height": null,
            "min_height": null,
            "padding": null,
            "grid_auto_rows": null,
            "grid_gap": null,
            "max_width": null,
            "order": null,
            "_view_module_version": "1.2.0",
            "grid_template_areas": null,
            "object_position": null,
            "object_fit": null,
            "grid_auto_columns": null,
            "margin": null,
            "display": null,
            "left": null
          }
        },
        "741b86714bdc4b1c8ee4eafcbf8d4115": {
          "model_module": "@jupyter-widgets/controls",
          "model_name": "DescriptionStyleModel",
          "state": {
            "_view_name": "StyleView",
            "_model_name": "DescriptionStyleModel",
            "description_width": "",
            "_view_module": "@jupyter-widgets/base",
            "_model_module_version": "1.5.0",
            "_view_count": null,
            "_view_module_version": "1.2.0",
            "_model_module": "@jupyter-widgets/controls"
          }
        },
        "d0d83413d905432588674bed26b36979": {
          "model_module": "@jupyter-widgets/base",
          "model_name": "LayoutModel",
          "state": {
            "_view_name": "LayoutView",
            "grid_template_rows": null,
            "right": null,
            "justify_content": null,
            "_view_module": "@jupyter-widgets/base",
            "overflow": null,
            "_model_module_version": "1.2.0",
            "_view_count": null,
            "flex_flow": null,
            "width": null,
            "min_width": null,
            "border": null,
            "align_items": null,
            "bottom": null,
            "_model_module": "@jupyter-widgets/base",
            "top": null,
            "grid_column": null,
            "overflow_y": null,
            "overflow_x": null,
            "grid_auto_flow": null,
            "grid_area": null,
            "grid_template_columns": null,
            "flex": null,
            "_model_name": "LayoutModel",
            "justify_items": null,
            "grid_row": null,
            "max_height": null,
            "align_content": null,
            "visibility": null,
            "align_self": null,
            "height": null,
            "min_height": null,
            "padding": null,
            "grid_auto_rows": null,
            "grid_gap": null,
            "max_width": null,
            "order": null,
            "_view_module_version": "1.2.0",
            "grid_template_areas": null,
            "object_position": null,
            "object_fit": null,
            "grid_auto_columns": null,
            "margin": null,
            "display": null,
            "left": null
          }
        }
      }
    }
  },
  "cells": [
    {
      "cell_type": "markdown",
      "metadata": {
        "id": "pEAjCLI8QCjU"
      },
      "source": [
        "##### Copyright 2020 Google LLC.\n",
        "\n",
        "Licensed under the Apache License, Version 2.0 (the \"License\");\n",
        "you may not use this file except in compliance with the License.\n",
        "You may obtain a copy of the License at\n",
        "\n",
        "https://www.apache.org/licenses/LICENSE-2.0\n",
        "\n",
        "Unless required by applicable law or agreed to in writing, software\n",
        "distributed under the License is distributed on an \"AS IS\" BASIS,\n",
        "WITHOUT WARRANTIES OR CONDITIONS OF ANY KIND, either express or implied.\n",
        "See the License for the specific language governing permissions and\n",
        "limitations under the License."
      ]
    },
    {
      "cell_type": "markdown",
      "metadata": {
        "id": "2lCKaZSM2Ac0"
      },
      "source": [
        "## RandBits MNIST using Contrastive Learning."
      ]
    },
    {
      "cell_type": "markdown",
      "metadata": {
        "id": "PZrwIvTl05P6"
      },
      "source": [
        "This notebook trains an unsupervised model on the RandBits MNIST dataset using contrastive learning, similar to the results shown in Figure 5(a) in ***Intriguing Properties of Contrastive Losses***."
      ]
    },
    {
      "cell_type": "code",
      "metadata": {
        "id": "0amaY7x4wgGr",
        "cellView": "form"
      },
      "source": [
        "#@title Imports.\n",
        "import tensorflow.compat.v2 as tf\n",
        "tf.enable_v2_behavior()\n",
        "\n",
        "import tensorflow_datasets as tfds\n",
        "import matplotlib.pyplot as plt\n",
        "import seaborn as sns\n",
        "import math\n",
        "import pandas as pd"
      ],
      "execution_count": 9,
      "outputs": []
    },
    {
      "cell_type": "code",
      "metadata": {
        "id": "dAa3IRTov5Bk",
        "cellView": "form"
      },
      "source": [
        "#@title Data preprocessing.\n",
        "def random_crop_and_resize(image):\n",
        "  sample_distorted_bounding_box = tf.image.sample_distorted_bounding_box(\n",
        "      image_size=tf.shape(image),\n",
        "      bounding_boxes=tf.constant(\n",
        "          [0.0, 0.0, 1.0, 1.0], dtype=tf.float32, shape=[1, 1, 4]),\n",
        "      min_object_covered=0.1,\n",
        "      aspect_ratio_range=(3. / 4, 4. / 3.),\n",
        "      area_range=(0.5, 1.0),\n",
        "      max_attempts=100,\n",
        "      use_image_if_no_bounding_boxes=True)\n",
        "  bbox_begin, bbox_size, _ = sample_distorted_bounding_box\n",
        "\n",
        "  # Crop the image to the specified bounding box.\n",
        "  offset_y, offset_x, _ = tf.unstack(bbox_begin)\n",
        "  target_height, target_width, _ = tf.unstack(bbox_size)\n",
        "  image = tf.image.crop_to_bounding_box(\n",
        "      image, offset_y, offset_x, target_height, target_width)\n",
        "\n",
        "  return tf.image.resize(image, [28, 28], method=tf.image.ResizeMethod.BILINEAR)\n",
        "\n",
        "def hash_image_to_bits(image, extra_channel_bits):\n",
        "  hash = tf.compat.v1.strings.to_hash_bucket_fast(\n",
        "      tf.image.encode_jpeg(image),\n",
        "      num_buckets=2**extra_channel_bits)\n",
        "  bits = tf.cast(\n",
        "      tf.math.mod(\n",
        "            tf.bitwise.right_shift(tf.expand_dims([hash], 1),\n",
        "            tf.range(extra_channel_bits, dtype=tf.int64)), 2),\n",
        "      tf.float32)\n",
        "  return bits\n",
        "\n",
        "def pack_extra_channels(image, bits):\n",
        "  extra_channel_bits = tf.shape(bits)[-1]\n",
        "  bits = tf.broadcast_to(bits, [28, 28, extra_channel_bits])\n",
        "  return tf.concat([image, tf.cast(bits, tf.float32)], axis=-1)\n",
        "\n",
        "def get_process_fns(extra_channel_bits):\n",
        "  def preprocess_train_fn(image, label):\n",
        "    bits = hash_image_to_bits(image, extra_channel_bits)\n",
        "    image = tf.image.convert_image_dtype(image, dtype=tf.float32)\n",
        "    label = tf.cast(label, tf.int32)\n",
        "\n",
        "    image_a = random_crop_and_resize(image)\n",
        "    image_b = random_crop_and_resize(image)\n",
        "\n",
        "    # Pack extra channels.\n",
        "    if extra_channel_bits > 0:\n",
        "      image_a = pack_extra_channels(image_a, bits)\n",
        "      image_b = pack_extra_channels(image_b, bits)\n",
        "\n",
        "    image = tf.stack([image_a, image_b], axis=0)  # [2, h, w, c]\n",
        "    return (image, label)\n",
        "\n",
        "  def preprocess_eval_fn(image, label):\n",
        "    bits = hash_image_to_bits(image, extra_channel_bits)\n",
        "    image = tf.image.convert_image_dtype(image, dtype=tf.float32)\n",
        "    label = tf.cast(label, tf.int32)\n",
        "    if extra_channel_bits > 0:\n",
        "      image = pack_extra_channels(image, bits)\n",
        "    return (image, label)\n",
        "\n",
        "  return preprocess_train_fn, preprocess_eval_fn"
      ],
      "execution_count": 3,
      "outputs": []
    },
    {
      "cell_type": "code",
      "metadata": {
        "id": "IjaSKhqb1qFV",
        "cellView": "form"
      },
      "source": [
        "#@title Objective functions.\n",
        "cls_loss_object = tf.keras.losses.CategoricalCrossentropy(\n",
        "    from_logits=True,\n",
        "    reduction=tf.keras.losses.Reduction.NONE)\n",
        "\n",
        "def get_cls_loss(labels, outputs):\n",
        "  return tf.reduce_mean(cls_loss_object(labels, outputs))\n",
        "\n",
        "def get_contrastive_loss(z1, z2, nt_xent_temp):   # [batch_size, dim]\n",
        "  batch_size = tf.shape(z1)[0]\n",
        "  dim = tf.shape(z1)[1]\n",
        "\n",
        "  z1 = tf.math.l2_normalize(z1, -1)\n",
        "  z2 = tf.math.l2_normalize(z2, -1)\n",
        "\n",
        "  sim = tf.matmul(z1, z2, transpose_b=True)  # [batch_size, batch_size]\n",
        "  sim /= nt_xent_temp\n",
        "\n",
        "  labels = tf.eye(batch_size)\n",
        "\n",
        "  loss = (\n",
        "      get_cls_loss(labels, sim) +\n",
        "      get_cls_loss(labels, tf.transpose(sim))\n",
        "  )\n",
        "  return tf.reduce_mean(loss), sim"
      ],
      "execution_count": 4,
      "outputs": []
    },
    {
      "cell_type": "code",
      "metadata": {
        "id": "0usbo7eUseR8",
        "cellView": "form"
      },
      "source": [
        "#@title Model.\n",
        "def dense_bn_relu(units):\n",
        "  return tf.keras.Sequential([\n",
        "      tf.keras.layers.Dense(\n",
        "          units, use_bias=False,\n",
        "          kernel_regularizer=tf.keras.regularizers.l2(1e-4)),\n",
        "      tf.keras.layers.BatchNormalization(center=True, scale=True),\n",
        "      tf.keras.layers.ReLU()\n",
        "  ])\n",
        "\n",
        "def conv2d_bn_relu(filters, kernel_size, strides):\n",
        "  return tf.keras.Sequential([\n",
        "      tf.keras.layers.Conv2D(\n",
        "          filters, kernel_size, strides, use_bias=False,\n",
        "          kernel_regularizer=tf.keras.regularizers.l2(1e-4)),\n",
        "      tf.keras.layers.BatchNormalization(center=True, scale=True),\n",
        "      tf.keras.layers.ReLU()\n",
        "  ])\n",
        "\n",
        "class ConvN(tf.keras.Model):\n",
        "\n",
        "  def __init__(self, width_multiplier):\n",
        "    super(ConvN, self).__init__()\n",
        "    self.num_classes = 10\n",
        "    self.latent_dim = 128 * width_multiplier\n",
        "    self.proj_dim = self.latent_dim / 2\n",
        "\n",
        "    self.enc = tf.keras.Sequential([\n",
        "        conv2d_bn_relu(32 * width_multiplier, 3, 2),\n",
        "        conv2d_bn_relu(64 * width_multiplier, 3, 2),\n",
        "        conv2d_bn_relu(64 * width_multiplier, 3, 2),\n",
        "        tf.keras.layers.Flatten(),\n",
        "        dense_bn_relu(self.latent_dim)\n",
        "    ])\n",
        "\n",
        "    self.proj = tf.keras.Sequential([\n",
        "        dense_bn_relu(self.latent_dim * 2),\n",
        "        tf.keras.layers.Dense(\n",
        "            self.proj_dim, use_bias=False, activation=None,\n",
        "            kernel_regularizer=tf.keras.regularizers.l2(1e-4)),\n",
        "    ])\n",
        "\n",
        "    self.classifier = tf.keras.layers.Dense(self.num_classes)\n",
        "\n",
        "  def call(self, inputs, training):\n",
        "    y = self.enc(inputs, training)\n",
        "    z = self.proj(y, training)\n",
        "    pred = self.classifier(tf.stop_gradient(y))\n",
        "    return y, z, pred"
      ],
      "execution_count": 5,
      "outputs": []
    },
    {
      "cell_type": "code",
      "metadata": {
        "id": "u9F2LOzm2zy4",
        "cellView": "form"
      },
      "source": [
        "#@title Define train_and_eval() for contrastive learning.\n",
        "def train_and_eval(\n",
        "    batch_size=128,\n",
        "    width_multiplier=1,\n",
        "    extra_channel_bits=10,\n",
        "    nt_xent_temp=0.1,\n",
        "    learning_rate=0.001,\n",
        "    epochs=10,\n",
        "    log_summary_every_n_steps=100,\n",
        "    eval_every_n_steps=100,\n",
        "    print_output=False):\n",
        "  strategy = tf.distribute.MirroredStrategy()\n",
        "\n",
        "  # Load dataset.\n",
        "  builder = tfds.builder('mnist')\n",
        "  builder.download_and_prepare()\n",
        "\n",
        "  preprocess_train_fn, preprocess_eval_fn = get_process_fns(extra_channel_bits)\n",
        "  train_dataset = builder.as_dataset(split='train', as_supervised=True)\n",
        "  train_dataset = train_dataset.repeat().map(preprocess_train_fn)\n",
        "  train_dataset = train_dataset.batch(batch_size)\n",
        "\n",
        "  test_dataset = builder.as_dataset(split='test', as_supervised=True)\n",
        "  test_dataset = test_dataset.map(preprocess_eval_fn)\n",
        "  test_dataset = test_dataset.batch(batch_size, drop_remainder=False)\n",
        "\n",
        "  train_iter = iter(train_dataset)\n",
        "  total_steps = int(60000 * epochs / batch_size)\n",
        "  steps_per_epoch_test = math.ceil(10000 / batch_size)\n",
        "\n",
        "  # Model and optimizer.\n",
        "  model = ConvN(width_multiplier)\n",
        "  global_step = tf.Variable(\n",
        "      1, trainable=False, name=\"global_step\", dtype=tf.int64)\n",
        "\n",
        "  lr_schedule = tf.keras.optimizers.schedules.PolynomialDecay(\n",
        "      initial_learning_rate=learning_rate,\n",
        "      decay_steps=total_steps,\n",
        "      end_learning_rate=0.)\n",
        "  optimizer = tf.keras.optimizers.Adam(lr_schedule)\n",
        "\n",
        "  # Define metrics.\n",
        "  loss_metrics = [\n",
        "      \"train_classification_loss\",\n",
        "      \"train_contrastive_loss\",\n",
        "      \"train_total_loss\",\n",
        "  ]\n",
        "  acc_metrics = [\"train_accuracy\", \"eval_accuracy\",\n",
        "                 \"train_contrastive_accuracy\"]\n",
        "  metric_list = {s: tf.keras.metrics.Mean(name=s) for s in loss_metrics}\n",
        "  metric_list.update({\n",
        "      s: tf.keras.metrics.SparseCategoricalAccuracy(name=s)\n",
        "      for s in acc_metrics\n",
        "  })\n",
        "\n",
        "  # Step functions.\n",
        "  @tf.function\n",
        "  def train_step(iterator):\n",
        "    def step_fn(inputs):\n",
        "      images, labels = inputs\n",
        "      labels_one_hot = tf.one_hot(labels, depth=10)\n",
        "      images_a, images_b = tf.unstack(images, num=2, axis=1)\n",
        "\n",
        "      with tf.GradientTape() as tape:\n",
        "        _, za, pred_a = model(images_a, training=True)\n",
        "        _, zb, pred_b = model(images_b, training=True)\n",
        "\n",
        "        contrastive_loss, contrastive_sim = (\n",
        "            get_contrastive_loss(za, zb, nt_xent_temp))\n",
        "        classifier_loss = get_cls_loss(labels_one_hot, pred_a)\n",
        "        wd_loss = sum(model.losses)\n",
        "        loss = classifier_loss + wd_loss + contrastive_loss\n",
        "\n",
        "        batch_size = tf.shape(images)[0]\n",
        "        metric_list[\"train_contrastive_loss\"].update_state(contrastive_loss)\n",
        "        metric_list[\"train_classification_loss\"].update_state(classifier_loss)\n",
        "        metric_list[\"train_accuracy\"].update_state(labels, pred_a)\n",
        "        metric_list[\"train_contrastive_accuracy\"].update_state(\n",
        "            tf.range(batch_size), contrastive_sim)\n",
        "        metric_list[\"train_total_loss\"].update_state(loss)\n",
        "\n",
        "      gradients = tape.gradient(loss, model.trainable_variables)\n",
        "      optimizer.apply_gradients(zip(gradients, model.trainable_variables))\n",
        "\n",
        "    strategy.run(step_fn, args=(next(iterator),))\n",
        "    global_step.assign_add(1)\n",
        "\n",
        "  @tf.function\n",
        "  def eval_step(iterator):\n",
        "    def step_fn(inputs):\n",
        "      images, labels = inputs\n",
        "      _, _, predictions = model(images, training=False)\n",
        "      metric_list[\"eval_accuracy\"].update_state(labels, predictions)\n",
        "    strategy.run(step_fn, args=(next(iterator),))\n",
        "\n",
        "  # Train and eval loop.\n",
        "  steps = []\n",
        "  eval_accuracies = []\n",
        "  while global_step.numpy() <= total_steps:\n",
        "    train_step(train_iter)\n",
        "    step = global_step.numpy()\n",
        "\n",
        "    if step % log_summary_every_n_steps == 0:\n",
        "      log_msg = \"Steps: {}\".format(step)\n",
        "      for m in loss_metrics + acc_metrics:\n",
        "        if m.startswith(\"train\"):\n",
        "          log_msg += \", {}: {}\".format(m, metric_list[m].result())\n",
        "          metric_list[m].reset_states()\n",
        "      if print_output:\n",
        "        print(log_msg)\n",
        "\n",
        "    if (step % eval_every_n_steps == 0) or (step == total_steps):\n",
        "      eval_iter = iter(test_dataset)\n",
        "\n",
        "      for m in loss_metrics + acc_metrics:\n",
        "        if m.startswith(\"eval\"):\n",
        "          metric_list[m].reset_states()\n",
        "\n",
        "      for _ in range(steps_per_epoch_test):\n",
        "        eval_step(eval_iter)\n",
        "      if print_output:\n",
        "        print(\"Steps: {}, Test accuracy: {}\".format(\n",
        "            step, metric_list[\"eval_accuracy\"].result()))\n",
        "      steps.append(step)\n",
        "      eval_accuracies.append(metric_list[\"eval_accuracy\"].result())\n",
        "\n",
        "  return steps, eval_accuracies"
      ],
      "execution_count": 6,
      "outputs": []
    },
    {
      "cell_type": "code",
      "metadata": {
        "id": "I3an389J6gCq",
        "outputId": "e4f63f0d-64ba-4318-e197-e01e26575aee",
        "colab": {
          "base_uri": "https://localhost:8080/",
          "height": 1000,
          "referenced_widgets": [
            "d8806065a5054b8da9767e4bb24af477",
            "1747f5b05a9c480c8311e56b9be11d2a",
            "8ecae8435e1244e2bac2b3a75971cdef",
            "bce306cd6a544f2a8b7fdbcfe523d802",
            "b8c000a9d5974ea58a96d724eaf43beb",
            "8f57b328127541f0b1f48bd4ad1a016c",
            "741b86714bdc4b1c8ee4eafcbf8d4115",
            "d0d83413d905432588674bed26b36979"
          ]
        }
      },
      "source": [
        "# The actual training. This cell takes a long time to run, especially on a CPU.\n",
        "rows = []\n",
        "cols = ['extra_channel_bits', 'nt_xent_temp', 'eval_accuracy']\n",
        "for temp in [0.05, 0.1, 0.2]:\n",
        "  for bits in [0, 5, 10, 15, 20]:\n",
        "    steps, accuracies = train_and_eval(\n",
        "        batch_size=1000,\n",
        "        width_multiplier=1,\n",
        "        extra_channel_bits=bits,\n",
        "        nt_xent_temp=temp,\n",
        "        learning_rate=0.001,\n",
        "        epochs=10,\n",
        "        eval_every_n_steps=1000,\n",
        "        print_output=False)\n",
        "    rows.append([bits, temp, accuracies[-1].numpy()])\n",
        "    print(\"extra_channel_bits={}, nt_xent_temp={}, eval_accuracy={}\".format(\n",
        "        bits, temp, accuracies[-1]))\n",
        "plot_df = pd.DataFrame.from_records(rows, columns=cols)"
      ],
      "execution_count": 7,
      "outputs": [
        {
          "output_type": "stream",
          "text": [
            "WARNING:tensorflow:There are non-GPU devices in `tf.distribute.Strategy`, not using nccl allreduce.\n",
            "INFO:tensorflow:Using MirroredStrategy with devices ('/job:localhost/replica:0/task:0/device:CPU:0',)\n",
            "\u001b[1mDownloading and preparing dataset mnist/3.0.1 (download: 11.06 MiB, generated: 21.00 MiB, total: 32.06 MiB) to /root/tensorflow_datasets/mnist/3.0.1...\u001b[0m\n"
          ],
          "name": "stdout"
        },
        {
          "output_type": "stream",
          "text": [
            "WARNING:absl:Dataset mnist is hosted on GCS. It will automatically be downloaded to your\n",
            "local data directory. If you'd instead prefer to read directly from our public\n",
            "GCS bucket (recommended if you're running on GCP), you can instead pass\n",
            "`try_gcs=True` to `tfds.load` or set `data_dir=gs://tfds-data/datasets`.\n",
            "\n"
          ],
          "name": "stderr"
        },
        {
          "output_type": "display_data",
          "data": {
            "application/vnd.jupyter.widget-view+json": {
              "model_id": "d8806065a5054b8da9767e4bb24af477",
              "version_minor": 0,
              "version_major": 2
            },
            "text/plain": [
              "HBox(children=(FloatProgress(value=0.0, description='Dl Completed...', max=4.0, style=ProgressStyle(descriptio…"
            ]
          },
          "metadata": {
            "tags": []
          }
        },
        {
          "output_type": "stream",
          "text": [
            "\n",
            "\n",
            "\u001b[1mDataset mnist downloaded and prepared to /root/tensorflow_datasets/mnist/3.0.1. Subsequent calls will reuse this data.\u001b[0m\n",
            "WARNING:tensorflow:From /usr/local/lib/python3.6/dist-packages/tensorflow/python/util/dispatch.py:201: sample_distorted_bounding_box (from tensorflow.python.ops.image_ops_impl) is deprecated and will be removed in a future version.\n",
            "Instructions for updating:\n",
            "`seed2` arg is deprecated.Use sample_distorted_bounding_box_v2 instead.\n"
          ],
          "name": "stdout"
        },
        {
          "output_type": "stream",
          "text": [
            "WARNING:tensorflow:From /usr/local/lib/python3.6/dist-packages/tensorflow/python/util/dispatch.py:201: sample_distorted_bounding_box (from tensorflow.python.ops.image_ops_impl) is deprecated and will be removed in a future version.\n",
            "Instructions for updating:\n",
            "`seed2` arg is deprecated.Use sample_distorted_bounding_box_v2 instead.\n"
          ],
          "name": "stderr"
        },
        {
          "output_type": "stream",
          "text": [
            "extra_channel_bits=0, nt_xent_temp=0.05, eval_accuracy=0.8992000222206116\n",
            "WARNING:tensorflow:There are non-GPU devices in `tf.distribute.Strategy`, not using nccl allreduce.\n"
          ],
          "name": "stdout"
        },
        {
          "output_type": "stream",
          "text": [
            "WARNING:tensorflow:There are non-GPU devices in `tf.distribute.Strategy`, not using nccl allreduce.\n"
          ],
          "name": "stderr"
        },
        {
          "output_type": "stream",
          "text": [
            "INFO:tensorflow:Using MirroredStrategy with devices ('/job:localhost/replica:0/task:0/device:CPU:0',)\n"
          ],
          "name": "stdout"
        },
        {
          "output_type": "stream",
          "text": [
            "INFO:tensorflow:Using MirroredStrategy with devices ('/job:localhost/replica:0/task:0/device:CPU:0',)\n"
          ],
          "name": "stderr"
        },
        {
          "output_type": "stream",
          "text": [
            "extra_channel_bits=5, nt_xent_temp=0.05, eval_accuracy=0.7063000202178955\n",
            "WARNING:tensorflow:There are non-GPU devices in `tf.distribute.Strategy`, not using nccl allreduce.\n"
          ],
          "name": "stdout"
        },
        {
          "output_type": "stream",
          "text": [
            "WARNING:tensorflow:There are non-GPU devices in `tf.distribute.Strategy`, not using nccl allreduce.\n"
          ],
          "name": "stderr"
        },
        {
          "output_type": "stream",
          "text": [
            "INFO:tensorflow:Using MirroredStrategy with devices ('/job:localhost/replica:0/task:0/device:CPU:0',)\n"
          ],
          "name": "stdout"
        },
        {
          "output_type": "stream",
          "text": [
            "INFO:tensorflow:Using MirroredStrategy with devices ('/job:localhost/replica:0/task:0/device:CPU:0',)\n"
          ],
          "name": "stderr"
        },
        {
          "output_type": "stream",
          "text": [
            "extra_channel_bits=10, nt_xent_temp=0.05, eval_accuracy=0.32989999651908875\n",
            "WARNING:tensorflow:There are non-GPU devices in `tf.distribute.Strategy`, not using nccl allreduce.\n"
          ],
          "name": "stdout"
        },
        {
          "output_type": "stream",
          "text": [
            "WARNING:tensorflow:There are non-GPU devices in `tf.distribute.Strategy`, not using nccl allreduce.\n"
          ],
          "name": "stderr"
        },
        {
          "output_type": "stream",
          "text": [
            "INFO:tensorflow:Using MirroredStrategy with devices ('/job:localhost/replica:0/task:0/device:CPU:0',)\n"
          ],
          "name": "stdout"
        },
        {
          "output_type": "stream",
          "text": [
            "INFO:tensorflow:Using MirroredStrategy with devices ('/job:localhost/replica:0/task:0/device:CPU:0',)\n"
          ],
          "name": "stderr"
        },
        {
          "output_type": "stream",
          "text": [
            "extra_channel_bits=15, nt_xent_temp=0.05, eval_accuracy=0.14259999990463257\n",
            "WARNING:tensorflow:There are non-GPU devices in `tf.distribute.Strategy`, not using nccl allreduce.\n"
          ],
          "name": "stdout"
        },
        {
          "output_type": "stream",
          "text": [
            "WARNING:tensorflow:There are non-GPU devices in `tf.distribute.Strategy`, not using nccl allreduce.\n"
          ],
          "name": "stderr"
        },
        {
          "output_type": "stream",
          "text": [
            "INFO:tensorflow:Using MirroredStrategy with devices ('/job:localhost/replica:0/task:0/device:CPU:0',)\n"
          ],
          "name": "stdout"
        },
        {
          "output_type": "stream",
          "text": [
            "INFO:tensorflow:Using MirroredStrategy with devices ('/job:localhost/replica:0/task:0/device:CPU:0',)\n"
          ],
          "name": "stderr"
        },
        {
          "output_type": "stream",
          "text": [
            "extra_channel_bits=20, nt_xent_temp=0.05, eval_accuracy=0.0989999994635582\n",
            "WARNING:tensorflow:There are non-GPU devices in `tf.distribute.Strategy`, not using nccl allreduce.\n"
          ],
          "name": "stdout"
        },
        {
          "output_type": "stream",
          "text": [
            "WARNING:tensorflow:There are non-GPU devices in `tf.distribute.Strategy`, not using nccl allreduce.\n"
          ],
          "name": "stderr"
        },
        {
          "output_type": "stream",
          "text": [
            "INFO:tensorflow:Using MirroredStrategy with devices ('/job:localhost/replica:0/task:0/device:CPU:0',)\n"
          ],
          "name": "stdout"
        },
        {
          "output_type": "stream",
          "text": [
            "INFO:tensorflow:Using MirroredStrategy with devices ('/job:localhost/replica:0/task:0/device:CPU:0',)\n"
          ],
          "name": "stderr"
        },
        {
          "output_type": "stream",
          "text": [
            "extra_channel_bits=0, nt_xent_temp=0.1, eval_accuracy=0.8916000127792358\n",
            "WARNING:tensorflow:There are non-GPU devices in `tf.distribute.Strategy`, not using nccl allreduce.\n"
          ],
          "name": "stdout"
        },
        {
          "output_type": "stream",
          "text": [
            "WARNING:tensorflow:There are non-GPU devices in `tf.distribute.Strategy`, not using nccl allreduce.\n"
          ],
          "name": "stderr"
        },
        {
          "output_type": "stream",
          "text": [
            "INFO:tensorflow:Using MirroredStrategy with devices ('/job:localhost/replica:0/task:0/device:CPU:0',)\n"
          ],
          "name": "stdout"
        },
        {
          "output_type": "stream",
          "text": [
            "INFO:tensorflow:Using MirroredStrategy with devices ('/job:localhost/replica:0/task:0/device:CPU:0',)\n"
          ],
          "name": "stderr"
        },
        {
          "output_type": "stream",
          "text": [
            "extra_channel_bits=5, nt_xent_temp=0.1, eval_accuracy=0.6118000149726868\n",
            "WARNING:tensorflow:There are non-GPU devices in `tf.distribute.Strategy`, not using nccl allreduce.\n"
          ],
          "name": "stdout"
        },
        {
          "output_type": "stream",
          "text": [
            "WARNING:tensorflow:There are non-GPU devices in `tf.distribute.Strategy`, not using nccl allreduce.\n"
          ],
          "name": "stderr"
        },
        {
          "output_type": "stream",
          "text": [
            "INFO:tensorflow:Using MirroredStrategy with devices ('/job:localhost/replica:0/task:0/device:CPU:0',)\n"
          ],
          "name": "stdout"
        },
        {
          "output_type": "stream",
          "text": [
            "INFO:tensorflow:Using MirroredStrategy with devices ('/job:localhost/replica:0/task:0/device:CPU:0',)\n"
          ],
          "name": "stderr"
        },
        {
          "output_type": "stream",
          "text": [
            "extra_channel_bits=10, nt_xent_temp=0.1, eval_accuracy=0.1867000013589859\n",
            "WARNING:tensorflow:There are non-GPU devices in `tf.distribute.Strategy`, not using nccl allreduce.\n"
          ],
          "name": "stdout"
        },
        {
          "output_type": "stream",
          "text": [
            "WARNING:tensorflow:There are non-GPU devices in `tf.distribute.Strategy`, not using nccl allreduce.\n"
          ],
          "name": "stderr"
        },
        {
          "output_type": "stream",
          "text": [
            "INFO:tensorflow:Using MirroredStrategy with devices ('/job:localhost/replica:0/task:0/device:CPU:0',)\n"
          ],
          "name": "stdout"
        },
        {
          "output_type": "stream",
          "text": [
            "INFO:tensorflow:Using MirroredStrategy with devices ('/job:localhost/replica:0/task:0/device:CPU:0',)\n"
          ],
          "name": "stderr"
        },
        {
          "output_type": "stream",
          "text": [
            "extra_channel_bits=15, nt_xent_temp=0.1, eval_accuracy=0.09799999743700027\n",
            "WARNING:tensorflow:There are non-GPU devices in `tf.distribute.Strategy`, not using nccl allreduce.\n"
          ],
          "name": "stdout"
        },
        {
          "output_type": "stream",
          "text": [
            "WARNING:tensorflow:There are non-GPU devices in `tf.distribute.Strategy`, not using nccl allreduce.\n"
          ],
          "name": "stderr"
        },
        {
          "output_type": "stream",
          "text": [
            "INFO:tensorflow:Using MirroredStrategy with devices ('/job:localhost/replica:0/task:0/device:CPU:0',)\n"
          ],
          "name": "stdout"
        },
        {
          "output_type": "stream",
          "text": [
            "INFO:tensorflow:Using MirroredStrategy with devices ('/job:localhost/replica:0/task:0/device:CPU:0',)\n"
          ],
          "name": "stderr"
        },
        {
          "output_type": "stream",
          "text": [
            "extra_channel_bits=20, nt_xent_temp=0.1, eval_accuracy=0.10329999774694443\n",
            "WARNING:tensorflow:There are non-GPU devices in `tf.distribute.Strategy`, not using nccl allreduce.\n"
          ],
          "name": "stdout"
        },
        {
          "output_type": "stream",
          "text": [
            "WARNING:tensorflow:There are non-GPU devices in `tf.distribute.Strategy`, not using nccl allreduce.\n"
          ],
          "name": "stderr"
        },
        {
          "output_type": "stream",
          "text": [
            "INFO:tensorflow:Using MirroredStrategy with devices ('/job:localhost/replica:0/task:0/device:CPU:0',)\n"
          ],
          "name": "stdout"
        },
        {
          "output_type": "stream",
          "text": [
            "INFO:tensorflow:Using MirroredStrategy with devices ('/job:localhost/replica:0/task:0/device:CPU:0',)\n"
          ],
          "name": "stderr"
        },
        {
          "output_type": "stream",
          "text": [
            "extra_channel_bits=0, nt_xent_temp=0.2, eval_accuracy=0.8998000025749207\n",
            "WARNING:tensorflow:There are non-GPU devices in `tf.distribute.Strategy`, not using nccl allreduce.\n"
          ],
          "name": "stdout"
        },
        {
          "output_type": "stream",
          "text": [
            "WARNING:tensorflow:There are non-GPU devices in `tf.distribute.Strategy`, not using nccl allreduce.\n"
          ],
          "name": "stderr"
        },
        {
          "output_type": "stream",
          "text": [
            "INFO:tensorflow:Using MirroredStrategy with devices ('/job:localhost/replica:0/task:0/device:CPU:0',)\n"
          ],
          "name": "stdout"
        },
        {
          "output_type": "stream",
          "text": [
            "INFO:tensorflow:Using MirroredStrategy with devices ('/job:localhost/replica:0/task:0/device:CPU:0',)\n"
          ],
          "name": "stderr"
        },
        {
          "output_type": "stream",
          "text": [
            "extra_channel_bits=5, nt_xent_temp=0.2, eval_accuracy=0.32989999651908875\n",
            "WARNING:tensorflow:There are non-GPU devices in `tf.distribute.Strategy`, not using nccl allreduce.\n"
          ],
          "name": "stdout"
        },
        {
          "output_type": "stream",
          "text": [
            "WARNING:tensorflow:There are non-GPU devices in `tf.distribute.Strategy`, not using nccl allreduce.\n"
          ],
          "name": "stderr"
        },
        {
          "output_type": "stream",
          "text": [
            "INFO:tensorflow:Using MirroredStrategy with devices ('/job:localhost/replica:0/task:0/device:CPU:0',)\n"
          ],
          "name": "stdout"
        },
        {
          "output_type": "stream",
          "text": [
            "INFO:tensorflow:Using MirroredStrategy with devices ('/job:localhost/replica:0/task:0/device:CPU:0',)\n"
          ],
          "name": "stderr"
        },
        {
          "output_type": "stream",
          "text": [
            "extra_channel_bits=10, nt_xent_temp=0.2, eval_accuracy=0.10350000113248825\n",
            "WARNING:tensorflow:There are non-GPU devices in `tf.distribute.Strategy`, not using nccl allreduce.\n"
          ],
          "name": "stdout"
        },
        {
          "output_type": "stream",
          "text": [
            "WARNING:tensorflow:There are non-GPU devices in `tf.distribute.Strategy`, not using nccl allreduce.\n"
          ],
          "name": "stderr"
        },
        {
          "output_type": "stream",
          "text": [
            "INFO:tensorflow:Using MirroredStrategy with devices ('/job:localhost/replica:0/task:0/device:CPU:0',)\n"
          ],
          "name": "stdout"
        },
        {
          "output_type": "stream",
          "text": [
            "INFO:tensorflow:Using MirroredStrategy with devices ('/job:localhost/replica:0/task:0/device:CPU:0',)\n"
          ],
          "name": "stderr"
        },
        {
          "output_type": "stream",
          "text": [
            "extra_channel_bits=15, nt_xent_temp=0.2, eval_accuracy=0.10029999911785126\n",
            "WARNING:tensorflow:There are non-GPU devices in `tf.distribute.Strategy`, not using nccl allreduce.\n"
          ],
          "name": "stdout"
        },
        {
          "output_type": "stream",
          "text": [
            "WARNING:tensorflow:There are non-GPU devices in `tf.distribute.Strategy`, not using nccl allreduce.\n"
          ],
          "name": "stderr"
        },
        {
          "output_type": "stream",
          "text": [
            "INFO:tensorflow:Using MirroredStrategy with devices ('/job:localhost/replica:0/task:0/device:CPU:0',)\n"
          ],
          "name": "stdout"
        },
        {
          "output_type": "stream",
          "text": [
            "INFO:tensorflow:Using MirroredStrategy with devices ('/job:localhost/replica:0/task:0/device:CPU:0',)\n"
          ],
          "name": "stderr"
        },
        {
          "output_type": "stream",
          "text": [
            "extra_channel_bits=20, nt_xent_temp=0.2, eval_accuracy=0.09889999777078629\n"
          ],
          "name": "stdout"
        }
      ]
    },
    {
      "cell_type": "code",
      "metadata": {
        "id": "svvRfGG76zxz",
        "outputId": "da318fd2-71ff-4254-eb90-58822d4b3b3a",
        "colab": {
          "base_uri": "https://localhost:8080/",
          "height": 352
        }
      },
      "source": [
        "plt.figure(figsize=(5, 5))\n",
        "sns.lineplot(\n",
        "    x='extra_channel_bits', y='eval_accuracy', hue='nt_xent_temp',\n",
        "    data=plot_df, palette=sns.color_palette(\"mako_r\", 3))"
      ],
      "execution_count": 8,
      "outputs": [
        {
          "output_type": "execute_result",
          "data": {
            "text/plain": [
              "<matplotlib.axes._subplots.AxesSubplot at 0x7faa3a73cdd8>"
            ]
          },
          "metadata": {
            "tags": []
          },
          "execution_count": 8
        },
        {
          "output_type": "display_data",
          "data": {
            "image/png": "[encoded data removed]",
            "text/plain": [
              "<Figure size 360x360 with 1 Axes>"
            ]
          },
          "metadata": {
            "tags": [],
            "needs_background": "light"
          }
        }
      ]
    }
  ]
}
